{
 "cells": [
  {
   "cell_type": "code",
   "execution_count": 61,
   "metadata": {},
   "outputs": [],
   "source": [
    "! pip freeze > requirements.txt"
   ]
  },
  {
   "cell_type": "code",
   "execution_count": 42,
   "metadata": {},
   "outputs": [],
   "source": [
    "import pandas as pd\n",
    "import numpy as np\n",
    "import stockstats as ss\n",
    "import time\n",
    "import yfinance as yf\n",
    "import talib as ta"
   ]
  },
  {
   "cell_type": "code",
   "execution_count": 43,
   "metadata": {},
   "outputs": [],
   "source": [
    "target_id = 'AAPL'\n",
    "start_date = \"2012-01-01\"\n",
    "end_date = \"2021-12-31\"\n",
    "test_date = '2021'\n",
    "day_length = 1\n",
    "time_period = 5"
   ]
  },
  {
   "cell_type": "code",
   "execution_count": 44,
   "metadata": {},
   "outputs": [
    {
     "name": "stdout",
     "output_type": "stream",
     "text": [
      "[*********************100%***********************]  1 of 1 completed\n"
     ]
    }
   ],
   "source": [
    "target = yf.download(target_id, start=start_date, end=end_date, interval=\"1d\")\n",
    "Indicator = pd.DataFrame(index=target.index)\n",
    "Det_Indicator = pd.DataFrame(index=target.index)"
   ]
  },
  {
   "cell_type": "code",
   "execution_count": 45,
   "metadata": {},
   "outputs": [
    {
     "data": {
      "text/plain": [
       "<AxesSubplot:>"
      ]
     },
     "execution_count": 45,
     "metadata": {},
     "output_type": "execute_result"
    },
    {
     "data": {
      "image/png": "[encoded data removed]",
      "text/plain": [
       "<Figure size 432x288 with 1 Axes>"
      ]
     },
     "metadata": {
      "needs_background": "light"
     },
     "output_type": "display_data"
    }
   ],
   "source": [
    "target.columns = target.columns.map({\n",
    "'Open':'open',\n",
    "'High':'high',\n",
    "'Low':'low',\n",
    "'Adj Close':'adj close',\n",
    "'Volume':'volume',\n",
    "'Close':'close'\n",
    "})\n",
    "target['LongShort'] = target['close'].shift(-day_length)\n",
    "num_label = pd.DataFrame(index=target.index)\n",
    "num_label['LongShort'] = (target['LongShort']-target['close'])/target['close']\n",
    "num_label.plot.box()"
   ]
  },
  {
   "cell_type": "code",
   "execution_count": 46,
   "metadata": {},
   "outputs": [
    {
     "name": "stdout",
     "output_type": "stream",
     "text": [
      "                slowk      slowd\n",
      "Date                            \n",
      "2012-01-13  35.833890  54.102968\n",
      "2012-01-17  41.424419  44.689720\n",
      "2012-01-18  63.869943  47.042751\n",
      "2012-01-19  83.492455  62.928939\n",
      "2012-01-20  60.363893  69.242097\n",
      "...               ...        ...\n",
      "2021-12-23  64.716308  42.214175\n",
      "2021-12-27  84.343506  62.682051\n",
      "2021-12-28  92.175847  80.411887\n",
      "2021-12-29  87.118709  87.879354\n",
      "2021-12-30  70.133426  83.142661\n",
      "\n",
      "[2508 rows x 2 columns]\n",
      "                slowk      slowd\n",
      "Date                            \n",
      "2012-01-13        NaN        NaN\n",
      "2012-01-17  35.833890  54.102968\n",
      "2012-01-18  41.424419  44.689720\n",
      "2012-01-19  63.869943  47.042751\n",
      "2012-01-20  83.492455  62.928939\n",
      "...               ...        ...\n",
      "2021-12-23  38.986338  25.271460\n",
      "2021-12-27  64.716308  42.214175\n",
      "2021-12-28  84.343506  62.682051\n",
      "2021-12-29  92.175847  80.411887\n",
      "2021-12-30  87.118709  87.879354\n",
      "\n",
      "[2508 rows x 2 columns]\n"
     ]
    }
   ],
   "source": [
    "from talib.abstract import STOCH as KD\n",
    "KD_ = KD(target,time_period).dropna()\n",
    "print(KD_)\n",
    "KD_shift = KD_.shift(1)\n",
    "print(KD_shift)\n",
    "KD_['LongShort'] = (KD_['slowk']-KD_['slowd'])\n",
    "\n",
    "\n",
    "Indicator['KD_k'] = KD_['slowk']\n",
    "Indicator['KD_d'] = KD_['slowd']\n",
    "Det_Indicator['KD_k'] = KD_['slowk']>KD_shift['slowk']\n",
    "Det_Indicator['KD_d'] = KD_['slowd']>KD_shift['slowd']"
   ]
  },
  {
   "cell_type": "code",
   "execution_count": 47,
   "metadata": {},
   "outputs": [
    {
     "data": {
      "image/png": "[encoded data removed]",
      "text/plain": [
       "<Figure size 432x288 with 1 Axes>"
      ]
     },
     "metadata": {
      "needs_background": "light"
     },
     "output_type": "display_data"
    }
   ],
   "source": [
    "from talib.abstract import MACD\n",
    "MACD_ = MACD(target,12,26,time_period)\n",
    "MACD_ = MACD_.dropna()\n",
    "MACD_shift = MACD_.shift(1)\n",
    "MACD_['LongShort'] = MACD_['macdhist']>0\n",
    "Indicator['MACD'] = MACD_['macd']\n",
    "MACD_['macdhist'].plot()\n",
    "Det_Indicator['MACD'] = MACD_['macd']>MACD_shift['macd']"
   ]
  },
  {
   "cell_type": "code",
   "execution_count": 48,
   "metadata": {},
   "outputs": [],
   "source": [
    "from talib import SMA\n",
    "SMA_ = pd.DataFrame(SMA(target['close'],time_period),columns=['SMA'])\n",
    "SMA_ = SMA_.dropna()\n",
    "SMA_['LongShort'] = (target['close']-SMA_['SMA'])/SMA_['SMA']\n",
    "Indicator['SMA'] = SMA_['LongShort']\n",
    "Det_Indicator['SMA'] = target.loc[SMA_.index,'close']>SMA_['SMA']"
   ]
  },
  {
   "cell_type": "code",
   "execution_count": 49,
   "metadata": {},
   "outputs": [],
   "source": [
    "from talib import EMA\n",
    "EMA_ = pd.DataFrame(EMA(target['close'],time_period),columns=['EMA'])\n",
    "EMA_ = EMA_.dropna()\n",
    "EMA_['LongShort'] = (target['close']-EMA_['EMA'])/EMA_['EMA']\n",
    "Indicator['EMA'] = EMA_['LongShort']\n",
    "Det_Indicator['EMA'] = target.loc[EMA_.index,'close']>EMA_['EMA']"
   ]
  },
  {
   "cell_type": "code",
   "execution_count": 50,
   "metadata": {},
   "outputs": [],
   "source": [
    "from talib import WMA\n",
    "WMA_ = pd.DataFrame(WMA(target['close'],time_period),columns=['WMA'])\n",
    "WMA_ = WMA_.dropna()\n",
    "WMA_['LongShort'] = (target['close']-WMA_['WMA'])/WMA_['WMA']\n",
    "Indicator['WMA'] = WMA_['LongShort']\n",
    "Det_Indicator['WMA'] = target.loc[WMA_.index,'close']>WMA_['WMA']"
   ]
  },
  {
   "cell_type": "code",
   "execution_count": 51,
   "metadata": {},
   "outputs": [
    {
     "data": {
      "text/plain": [
       "True     1589\n",
       "False     927\n",
       "Name: RSI, dtype: int64"
      ]
     },
     "execution_count": 51,
     "metadata": {},
     "output_type": "execute_result"
    }
   ],
   "source": [
    "from talib import RSI\n",
    "RSI_ = pd.DataFrame(RSI(target['close'],time_period),columns=['RSI'])\n",
    "RSI_ = RSI_.dropna()\n",
    "Indicator['RSI'] = RSI_['RSI']\n",
    "RSI_shift = RSI_.shift(1)\n",
    "Det_Indicator['RSI'] = False\n",
    "RSI_['below30'] = RSI_['RSI']<30\n",
    "RSI_['Increase'] = RSI_['RSI']>RSI_shift['RSI']\n",
    "Det_Indicator['RSI'] = Det_Indicator['RSI']|RSI_['below30']|RSI_['Increase']\n",
    "Det_Indicator['RSI'].value_counts()"
   ]
  },
  {
   "cell_type": "code",
   "execution_count": 52,
   "metadata": {},
   "outputs": [],
   "source": [
    "from talib import MOM\n",
    "MOM_ = MOM(target['close'], timeperiod=time_period)\n",
    "MOM_ = MOM_.dropna()\n",
    "Indicator['MOM'] = MOM_\n",
    "Det_Indicator['MOM'] = MOM_>0\n"
   ]
  },
  {
   "cell_type": "code",
   "execution_count": 53,
   "metadata": {},
   "outputs": [
    {
     "name": "stdout",
     "output_type": "stream",
     "text": [
      "                   CCI\n",
      "Date                  \n",
      "2012-01-03         NaN\n",
      "2012-01-04         NaN\n",
      "2012-01-05         NaN\n",
      "2012-01-06         NaN\n",
      "2012-01-09   99.466519\n",
      "...                ...\n",
      "2021-12-23  107.662445\n",
      "2021-12-27  114.888957\n",
      "2021-12-28   89.094442\n",
      "2021-12-29   53.043660\n",
      "2021-12-30   17.022692\n",
      "\n",
      "[2516 rows x 1 columns]\n"
     ]
    }
   ],
   "source": [
    "from talib import CCI\n",
    "CCI_ = pd.DataFrame(CCI(target['high'],target['low'],target['close'],time_period),columns=['CCI'])\n",
    "print(CCI_)\n",
    "CCI_=CCI_.dropna()\n",
    "CCI_shift = CCI_.shift(1)\n",
    "Indicator['CCI'] = CCI_\n",
    "Det_Indicator['CCI'] = False\n",
    "CCI_['below200'] = CCI_['CCI']<200\n",
    "CCI_['Increase'] = CCI_['CCI']>CCI_shift['CCI']\n",
    "Det_Indicator['CCI'] = Det_Indicator['CCI']|CCI_['Increase']|CCI_['below200']\n"
   ]
  },
  {
   "cell_type": "code",
   "execution_count": 54,
   "metadata": {},
   "outputs": [],
   "source": [
    "from talib import WILLR\n",
    "WILLR_ = WILLR(target['high'],target['low'],target['close'],time_period)\n",
    "WILLR_=WILLR_.dropna()\n",
    "WILLR_shift=WILLR_.shift(1)\n",
    "Indicator['WILLR'] = WILLR_\n",
    "Det_Indicator['WILLR'] = WILLR_>WILLR_shift"
   ]
  },
  {
   "cell_type": "code",
   "execution_count": 55,
   "metadata": {},
   "outputs": [
    {
     "data": {
      "text/html": [
       "<div>\n",
       "<style scoped>\n",
       "    .dataframe tbody tr th:only-of-type {\n",
       "        vertical-align: middle;\n",
       "    }\n",
       "\n",
       "    .dataframe tbody tr th {\n",
       "        vertical-align: top;\n",
       "    }\n",
       "\n",
       "    .dataframe thead th {\n",
       "        text-align: right;\n",
       "    }\n",
       "</style>\n",
       "<table border=\"1\" class=\"dataframe\">\n",
       "  <thead>\n",
       "    <tr style=\"text-align: right;\">\n",
       "      <th></th>\n",
       "      <th>KD_k</th>\n",
       "      <th>KD_d</th>\n",
       "      <th>MACD</th>\n",
       "      <th>SMA</th>\n",
       "      <th>EMA</th>\n",
       "      <th>WMA</th>\n",
       "      <th>RSI</th>\n",
       "      <th>MOM</th>\n",
       "      <th>CCI</th>\n",
       "      <th>WILLR</th>\n",
       "      <th>AD</th>\n",
       "      <th>LongShort</th>\n",
       "    </tr>\n",
       "    <tr>\n",
       "      <th>Date</th>\n",
       "      <th></th>\n",
       "      <th></th>\n",
       "      <th></th>\n",
       "      <th></th>\n",
       "      <th></th>\n",
       "      <th></th>\n",
       "      <th></th>\n",
       "      <th></th>\n",
       "      <th></th>\n",
       "      <th></th>\n",
       "      <th></th>\n",
       "      <th></th>\n",
       "    </tr>\n",
       "  </thead>\n",
       "  <tbody>\n",
       "    <tr>\n",
       "      <th>2012-02-14</th>\n",
       "      <td>True</td>\n",
       "      <td>True</td>\n",
       "      <td>False</td>\n",
       "      <td>True</td>\n",
       "      <td>True</td>\n",
       "      <td>True</td>\n",
       "      <td>True</td>\n",
       "      <td>True</td>\n",
       "      <td>True</td>\n",
       "      <td>True</td>\n",
       "      <td>True</td>\n",
       "      <td>-0.023142</td>\n",
       "    </tr>\n",
       "    <tr>\n",
       "      <th>2012-02-15</th>\n",
       "      <td>False</td>\n",
       "      <td>False</td>\n",
       "      <td>False</td>\n",
       "      <td>False</td>\n",
       "      <td>True</td>\n",
       "      <td>False</td>\n",
       "      <td>False</td>\n",
       "      <td>True</td>\n",
       "      <td>True</td>\n",
       "      <td>False</td>\n",
       "      <td>False</td>\n",
       "      <td>0.009122</td>\n",
       "    </tr>\n",
       "    <tr>\n",
       "      <th>2012-02-16</th>\n",
       "      <td>False</td>\n",
       "      <td>False</td>\n",
       "      <td>True</td>\n",
       "      <td>True</td>\n",
       "      <td>True</td>\n",
       "      <td>True</td>\n",
       "      <td>True</td>\n",
       "      <td>True</td>\n",
       "      <td>True</td>\n",
       "      <td>True</td>\n",
       "      <td>True</td>\n",
       "      <td>-0.000179</td>\n",
       "    </tr>\n",
       "    <tr>\n",
       "      <th>2012-02-17</th>\n",
       "      <td>False</td>\n",
       "      <td>False</td>\n",
       "      <td>False</td>\n",
       "      <td>False</td>\n",
       "      <td>True</td>\n",
       "      <td>False</td>\n",
       "      <td>False</td>\n",
       "      <td>True</td>\n",
       "      <td>True</td>\n",
       "      <td>False</td>\n",
       "      <td>False</td>\n",
       "      <td>0.025353</td>\n",
       "    </tr>\n",
       "    <tr>\n",
       "      <th>2012-02-21</th>\n",
       "      <td>True</td>\n",
       "      <td>False</td>\n",
       "      <td>True</td>\n",
       "      <td>True</td>\n",
       "      <td>True</td>\n",
       "      <td>True</td>\n",
       "      <td>True</td>\n",
       "      <td>True</td>\n",
       "      <td>True</td>\n",
       "      <td>True</td>\n",
       "      <td>True</td>\n",
       "      <td>-0.003516</td>\n",
       "    </tr>\n",
       "    <tr>\n",
       "      <th>...</th>\n",
       "      <td>...</td>\n",
       "      <td>...</td>\n",
       "      <td>...</td>\n",
       "      <td>...</td>\n",
       "      <td>...</td>\n",
       "      <td>...</td>\n",
       "      <td>...</td>\n",
       "      <td>...</td>\n",
       "      <td>...</td>\n",
       "      <td>...</td>\n",
       "      <td>...</td>\n",
       "      <td>...</td>\n",
       "    </tr>\n",
       "    <tr>\n",
       "      <th>2021-12-22</th>\n",
       "      <td>True</td>\n",
       "      <td>True</td>\n",
       "      <td>False</td>\n",
       "      <td>True</td>\n",
       "      <td>True</td>\n",
       "      <td>True</td>\n",
       "      <td>True</td>\n",
       "      <td>False</td>\n",
       "      <td>True</td>\n",
       "      <td>True</td>\n",
       "      <td>True</td>\n",
       "      <td>0.003644</td>\n",
       "    </tr>\n",
       "    <tr>\n",
       "      <th>2021-12-23</th>\n",
       "      <td>True</td>\n",
       "      <td>True</td>\n",
       "      <td>False</td>\n",
       "      <td>True</td>\n",
       "      <td>True</td>\n",
       "      <td>True</td>\n",
       "      <td>True</td>\n",
       "      <td>True</td>\n",
       "      <td>True</td>\n",
       "      <td>True</td>\n",
       "      <td>True</td>\n",
       "      <td>0.022975</td>\n",
       "    </tr>\n",
       "    <tr>\n",
       "      <th>2021-12-27</th>\n",
       "      <td>True</td>\n",
       "      <td>True</td>\n",
       "      <td>True</td>\n",
       "      <td>True</td>\n",
       "      <td>True</td>\n",
       "      <td>True</td>\n",
       "      <td>True</td>\n",
       "      <td>True</td>\n",
       "      <td>True</td>\n",
       "      <td>True</td>\n",
       "      <td>True</td>\n",
       "      <td>-0.005767</td>\n",
       "    </tr>\n",
       "    <tr>\n",
       "      <th>2021-12-28</th>\n",
       "      <td>True</td>\n",
       "      <td>True</td>\n",
       "      <td>True</td>\n",
       "      <td>True</td>\n",
       "      <td>True</td>\n",
       "      <td>True</td>\n",
       "      <td>False</td>\n",
       "      <td>True</td>\n",
       "      <td>True</td>\n",
       "      <td>False</td>\n",
       "      <td>False</td>\n",
       "      <td>0.000502</td>\n",
       "    </tr>\n",
       "    <tr>\n",
       "      <th>2021-12-29</th>\n",
       "      <td>False</td>\n",
       "      <td>True</td>\n",
       "      <td>False</td>\n",
       "      <td>True</td>\n",
       "      <td>True</td>\n",
       "      <td>True</td>\n",
       "      <td>True</td>\n",
       "      <td>True</td>\n",
       "      <td>True</td>\n",
       "      <td>False</td>\n",
       "      <td>False</td>\n",
       "      <td>-0.006578</td>\n",
       "    </tr>\n",
       "  </tbody>\n",
       "</table>\n",
       "<p>2486 rows × 12 columns</p>\n",
       "</div>"
      ],
      "text/plain": [
       "             KD_k   KD_d   MACD    SMA   EMA    WMA    RSI    MOM   CCI  \\\n",
       "Date                                                                      \n",
       "2012-02-14   True   True  False   True  True   True   True   True  True   \n",
       "2012-02-15  False  False  False  False  True  False  False   True  True   \n",
       "2012-02-16  False  False   True   True  True   True   True   True  True   \n",
       "2012-02-17  False  False  False  False  True  False  False   True  True   \n",
       "2012-02-21   True  False   True   True  True   True   True   True  True   \n",
       "...           ...    ...    ...    ...   ...    ...    ...    ...   ...   \n",
       "2021-12-22   True   True  False   True  True   True   True  False  True   \n",
       "2021-12-23   True   True  False   True  True   True   True   True  True   \n",
       "2021-12-27   True   True   True   True  True   True   True   True  True   \n",
       "2021-12-28   True   True   True   True  True   True  False   True  True   \n",
       "2021-12-29  False   True  False   True  True   True   True   True  True   \n",
       "\n",
       "            WILLR     AD  LongShort  \n",
       "Date                                 \n",
       "2012-02-14   True   True  -0.023142  \n",
       "2012-02-15  False  False   0.009122  \n",
       "2012-02-16   True   True  -0.000179  \n",
       "2012-02-17  False  False   0.025353  \n",
       "2012-02-21   True   True  -0.003516  \n",
       "...           ...    ...        ...  \n",
       "2021-12-22   True   True   0.003644  \n",
       "2021-12-23   True   True   0.022975  \n",
       "2021-12-27   True   True  -0.005767  \n",
       "2021-12-28  False  False   0.000502  \n",
       "2021-12-29  False  False  -0.006578  \n",
       "\n",
       "[2486 rows x 12 columns]"
      ]
     },
     "execution_count": 55,
     "metadata": {},
     "output_type": "execute_result"
    }
   ],
   "source": [
    "from talib import AD\n",
    "AD_ = AD(target['high'],target['low'],target['close'],target['volume'])\n",
    "AD_shift = AD_.shift(1)\n",
    "Det_Indicator['AD'] = AD_>AD_shift\n",
    "five_days = pd.concat([Det_Indicator,pd.DataFrame(num_label['LongShort'])],axis=1)\n",
    "five_days\n",
    "five_days.dropna(inplace=True)\n",
    "five_days"
   ]
  },
  {
   "cell_type": "code",
   "execution_count": 56,
   "metadata": {},
   "outputs": [],
   "source": [
    "from sklearn.metrics import confusion_matrix,accuracy_score,recall_score,precision_score\n",
    "def get_performance(true,pred,out=False):\n",
    "    matrix = confusion_matrix(true,pred,labels=[True,False])\n",
    "    result = {\n",
    "    'acc':accuracy_score(true,pred),\n",
    "    'win_rate':matrix[0][0]/(matrix[0][0]+matrix[1][0]),\n",
    "    'precision':precision_score(true,pred),\n",
    "    'recall':recall_score(true,pred)\n",
    "    }\n",
    "    return result"
   ]
  },
  {
   "cell_type": "code",
   "execution_count": 57,
   "metadata": {},
   "outputs": [
    {
     "name": "stdout",
     "output_type": "stream",
     "text": [
      "{'n_estimators': 200}\n"
     ]
    }
   ],
   "source": [
    "from sklearn.model_selection import train_test_split\n",
    "X = five_days.iloc[:,:-1]\n",
    "y = five_days['LongShort']>0\n",
    "X_train = X[five_days.index<test_date]\n",
    "X_test = X[five_days.index>=test_date]\n",
    "y_train = y[five_days.index<test_date]\n",
    "y_test = y[five_days.index>=test_date]\n",
    "from sklearn.ensemble import RandomForestClassifier as RFC\n",
    "from sklearn.model_selection import GridSearchCV\n",
    "clf = RFC(random_state=42,n_jobs=5)\n",
    "parameters = {\n",
    "'n_estimators': np.arange(10, 210, 10).tolist(),\n",
    "}\n",
    "GS = GridSearchCV(clf, parameters,n_jobs=5)\n",
    "GS.fit(X_train, y_train)\n",
    "\n",
    "print(GS.best_params_)\n"
   ]
  },
  {
   "cell_type": "code",
   "execution_count": 58,
   "metadata": {},
   "outputs": [
    {
     "name": "stdout",
     "output_type": "stream",
     "text": [
      "{'acc': 0.528, 'win_rate': 0.5533333333333333, 'precision': 0.5533333333333333, 'recall': 0.6194029850746269}\n",
      "[[83 51]\n",
      " [67 49]]\n",
      "0.0010786952796273193\n",
      "0.001947191992408526\n",
      "0.013129323663447797\n",
      "-0.011905299480669974\n"
     ]
    }
   ],
   "source": [
    "from sklearn.ensemble import RandomForestClassifier\n",
    "clf = RandomForestClassifier(**GS.best_params_,n_jobs=5,random_state=42)\n",
    "clf.fit(X_train,y_train)\n",
    "result = clf.predict(X_test)\n",
    "print(get_performance(y_test,result))\n",
    "print(confusion_matrix(y_test,result,labels=[True,False]))\n",
    "y_test.value_counts()\n",
    "\n",
    "print(np.average(five_days.loc[:,'LongShort']))\n",
    "print(np.average(five_days.loc[y_test[result].index,'LongShort']))\n",
    "print(np.average(five_days.loc[y_test[np.array(y_test) & result ].index,'LongShort']))\n",
    "print(np.average(five_days.loc[y_test[~np.array(y_test) & result ].index,'LongShort']))\n"
   ]
  },
  {
   "cell_type": "code",
   "execution_count": 59,
   "metadata": {},
   "outputs": [
    {
     "name": "stdout",
     "output_type": "stream",
     "text": [
      "Final reward: LongShort    1.312851\n",
      "Name: 2021-12-29 00:00:00, dtype: float64\n",
      "Stock grow: 1.3770187149791286\n"
     ]
    },
    {
     "data": {
      "image/png": "[encoded data removed]",
      "text/plain": [
       "<Figure size 432x288 with 1 Axes>"
      ]
     },
     "metadata": {
      "needs_background": "light"
     },
     "output_type": "display_data"
    }
   ],
   "source": [
    "import matplotlib.pyplot as plt\n",
    "earn =np.log(pd.DataFrame(five_days.loc[y_test[result].index,'LongShort'])+1)\n",
    "earn = earn.cumsum()\n",
    "earn =np.exp(earn)\n",
    "earn.plot()\n",
    "price_reward = target[target.index>=test_date]['close'].copy()\n",
    "price_reward/=price_reward[0]\n",
    "price_reward.plot(label='Stock Price')\n",
    "plt.legend()\n",
    "print('Final reward:',earn.iloc[-1])\n",
    "print('Stock grow:',price_reward.iloc[-1])"
   ]
  }
 ],
 "metadata": {
  "kernelspec": {
   "display_name": "Python 3.10.4 64-bit",
   "language": "python",
   "name": "python3"
  },
  "language_info": {
   "codemirror_mode": {
    "name": "ipython",
    "version": 3
   },
   "file_extension": ".py",
   "mimetype": "text/x-python",
   "name": "python",
   "nbconvert_exporter": "python",
   "pygments_lexer": "ipython3",
   "version": "3.10.4"
  },
  "orig_nbformat": 4,
  "vscode": {
   "interpreter": {
    "hash": "df95319d8ce4e1d89f5365ae10992bc1f65da593082b1d264e8f529830ec2f02"
   }
  }
 },
 "nbformat": 4,
 "nbformat_minor": 2
}
